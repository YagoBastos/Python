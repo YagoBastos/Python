{
  "nbformat": 4,
  "nbformat_minor": 0,
  "metadata": {
    "colab": {
      "name": "aula01.ipynb",
      "provenance": [],
      "collapsed_sections": [],
      "toc_visible": true,
      "authorship_tag": "ABX9TyPFpYitsrX7SwO6gGkjjbTy",
      "include_colab_link": true
    },
    "kernelspec": {
      "name": "python3",
      "display_name": "Python 3"
    },
    "language_info": {
      "name": "python"
    }
  },
  "cells": [
    {
      "cell_type": "markdown",
      "metadata": {
        "id": "view-in-github",
        "colab_type": "text"
      },
      "source": [
        "<a href=\"https://colab.research.google.com/github/YagoBastos/Python/blob/main/aula01.ipynb\" target=\"_parent\"><img src=\"https://colab.research.google.com/assets/colab-badge.svg\" alt=\"Open In Colab\"/></a>"
      ]
    },
    {
      "cell_type": "markdown",
      "source": [
        "att 3"
      ],
      "metadata": {
        "id": "uw5kQh6i6v-p"
      }
    },
    {
      "cell_type": "code",
      "execution_count": null,
      "metadata": {
        "id": "9pv1hbYX5fgZ"
      },
      "outputs": [],
      "source": [
        "num = float(input(\"Digite um numero: \"))\n",
        "print(\"\\n\")\n",
        "if num>-1 and num<1:\n",
        "  print(\"O numero está entre o intervalo de -1 e 1\")\n",
        "else:\n",
        "  print(\"O numero não esta entre o intervalo de -1 e 1\")"
      ]
    },
    {
      "cell_type": "markdown",
      "source": [
        "\n",
        "\n",
        "---\n",
        "\n"
      ],
      "metadata": {
        "id": "EHP_1KTY-81T"
      }
    },
    {
      "cell_type": "markdown",
      "source": [
        "att 4"
      ],
      "metadata": {
        "id": "PUPSIdCS-4gc"
      }
    },
    {
      "cell_type": "code",
      "source": [
        "letra = input(\"Digite uma letra:\").lower()\n",
        "if letra == \"s\":\n",
        "  print(\"\\n a letra é o S\")\n",
        "elif letra == \"n\":\n",
        "  print(\"\\n a letra é o N\")\n",
        "else:\n",
        "  print(\"\\n a letra não é nem S e nem N!\")"
      ],
      "metadata": {
        "id": "a4A6ZXDt-3E8"
      },
      "execution_count": null,
      "outputs": []
    },
    {
      "cell_type": "markdown",
      "source": [
        "\n",
        "\n",
        "---\n",
        "\n"
      ],
      "metadata": {
        "id": "QBcuXVeMAHp0"
      }
    },
    {
      "cell_type": "markdown",
      "source": [
        "att 5"
      ],
      "metadata": {
        "id": "qS4UZtD6ALF8"
      }
    },
    {
      "cell_type": "code",
      "source": [
        "grausF = float(input(\"Digite a temperatura em fahrenheit:\"))\n",
        "grausC = (grausF-32)*5/9\n",
        "print(\"\\nTemperatura em celsius é:\",grausC)"
      ],
      "metadata": {
        "id": "vyTI9QBqANkW"
      },
      "execution_count": null,
      "outputs": []
    },
    {
      "cell_type": "markdown",
      "source": [
        "\n",
        "\n",
        "---\n",
        "\n"
      ],
      "metadata": {
        "id": "Z38Ghx4IBv7E"
      }
    },
    {
      "cell_type": "markdown",
      "source": [
        "att 6"
      ],
      "metadata": {
        "id": "CifS8pVSBxaU"
      }
    },
    {
      "cell_type": "code",
      "source": [
        "soma = 0\n",
        "for i in range(3):\n",
        "  idade = int(input(\"Digite a idade da pessoa: \"))\n",
        "  soma = soma + idade \n",
        "print(\"\\n\\n\")\n",
        "if soma>=100:\n",
        "  print(\"A soma das idades é maior ou igual a 100!\")\n",
        "else:\n",
        "  print(\"A soma das idades é menor que 100!\")"
      ],
      "metadata": {
        "id": "lKE-w6QdB1VF"
      },
      "execution_count": null,
      "outputs": []
    },
    {
      "cell_type": "markdown",
      "source": [
        "\n",
        "\n",
        "---\n",
        "\n"
      ],
      "metadata": {
        "id": "lgUnmtLmFFDe"
      }
    },
    {
      "cell_type": "markdown",
      "source": [
        "att 7"
      ],
      "metadata": {
        "id": "3AWgZmgeFGAe"
      }
    },
    {
      "cell_type": "code",
      "source": [
        "num = float(input(\"Digite um numero:\"))\n",
        "if num > 0:\n",
        "  print(\"Numero positivo\")\n",
        "elif num < 0:\n",
        "  print(\"Numero negativo\")\n",
        "else:\n",
        "  print(\"Numero é o zero\")"
      ],
      "metadata": {
        "id": "kl1ihhpJFHs-"
      },
      "execution_count": null,
      "outputs": []
    },
    {
      "cell_type": "markdown",
      "source": [
        "\n",
        "\n",
        "---\n",
        "\n"
      ],
      "metadata": {
        "id": "6EVQ8piGF76i"
      }
    },
    {
      "cell_type": "markdown",
      "source": [
        "att 8"
      ],
      "metadata": {
        "id": "a3QFD3frF8fp"
      }
    },
    {
      "cell_type": "code",
      "source": [
        "num = float(input(\"Digite um numero:\"))\n",
        "if num%2==0:\n",
        "  print(\"\\nNumero par!\")\n",
        "else:\n",
        "  print(\"\\nNumero impar!\")"
      ],
      "metadata": {
        "id": "gWAlVmAaF-QD"
      },
      "execution_count": null,
      "outputs": []
    },
    {
      "cell_type": "markdown",
      "source": [
        "\n",
        "\n",
        "---\n",
        "\n"
      ],
      "metadata": {
        "id": "kR6ewgfbGZKD"
      }
    },
    {
      "cell_type": "markdown",
      "source": [
        "att 9"
      ],
      "metadata": {
        "id": "F0XoHAFuGZ0c"
      }
    },
    {
      "cell_type": "code",
      "source": [
        "maior = 0\n",
        "for i in range(3):\n",
        "  num = int(input(\"Digite a idade da pessoa: \"))\n",
        "  if num>maior:\n",
        "    maior = num\n",
        "print(\"o maior numero é o:\",maior) "
      ],
      "metadata": {
        "id": "6EKIdtoEGbWc"
      },
      "execution_count": null,
      "outputs": []
    },
    {
      "cell_type": "markdown",
      "source": [
        "\n",
        "\n",
        "---\n",
        "\n"
      ],
      "metadata": {
        "id": "4v6CoAlEHMGf"
      }
    },
    {
      "cell_type": "markdown",
      "source": [
        "att 10"
      ],
      "metadata": {
        "id": "YtF3q1i5HMtF"
      }
    },
    {
      "cell_type": "code",
      "source": [
        "sal = float(input(\"Digite seu salario: \"))\n",
        "if sal<500:\n",
        "  sal=sal+sal*0.15\n",
        "elif sal>=500 and sal<=1000:\n",
        "  sal=sal+sal*0.10\n",
        "else:\n",
        "  sal=sal+sal*0.05\n",
        "print(\"Salario com reajuste ficou:\",sal)"
      ],
      "metadata": {
        "id": "cRp8cgLHHOcO"
      },
      "execution_count": null,
      "outputs": []
    },
    {
      "cell_type": "markdown",
      "source": [
        "\n",
        "\n",
        "---\n",
        "\n"
      ],
      "metadata": {
        "id": "7yf3YpgzInc5"
      }
    },
    {
      "cell_type": "markdown",
      "source": [
        "att extra"
      ],
      "metadata": {
        "id": "q65-WcAyIoSg"
      }
    },
    {
      "cell_type": "code",
      "source": [
        "num = int(input(\"Digite um numero de 3 digitos:\"))\n",
        "resto1 = num%100\n",
        "resto2 = resto1%10\n",
        "inverso = (resto2*100)+(resto1-resto2)+int(num/100)\n",
        "print(\"\\n\",inverso)"
      ],
      "metadata": {
        "id": "jCqAZK6vIqtI"
      },
      "execution_count": null,
      "outputs": []
    }
  ]
}